{
  "nbformat": 4,
  "nbformat_minor": 0,
  "metadata": {
    "colab": {
      "provenance": [],
      "authorship_tag": "ABX9TyPNF5xn88QXHzHwIMe7KUfR",
      "include_colab_link": true
    },
    "kernelspec": {
      "name": "python3",
      "display_name": "Python 3"
    },
    "language_info": {
      "name": "python"
    }
  },
  "cells": [
    {
      "cell_type": "markdown",
      "metadata": {
        "id": "view-in-github",
        "colab_type": "text"
      },
      "source": [
        "<a href=\"https://colab.research.google.com/github/Guntercrafted/Algorithms/blob/main/Lab_Recursion.ipynb\" target=\"_parent\"><img src=\"https://colab.research.google.com/assets/colab-badge.svg\" alt=\"Open In Colab\"/></a>"
      ]
    },
    {
      "cell_type": "code",
      "execution_count": null,
      "metadata": {
        "id": "tywbPiaz1waY",
        "colab": {
          "base_uri": "https://localhost:8080/"
        },
        "outputId": "cb8aef4d-b2a4-41cd-d9a7-654b74941884"
      },
      "outputs": [
        {
          "output_type": "stream",
          "name": "stdout",
          "text": [
            "Enter number of factorial: 6\n",
            "720\n"
          ]
        }
      ],
      "source": [
        "#Lab1.1 factorial\n",
        "def factorial(n):\n",
        "    if n == 0:\n",
        "        return 1\n",
        "    else:\n",
        "        return n*factorial(n-1)\n",
        "\n",
        "number = int(input(\"Enter number of factorial: \"))\n",
        "result = factorial(number)\n",
        "print(result)"
      ]
    },
    {
      "cell_type": "code",
      "source": [
        "#Lab1.2 Drawing an English Ruler\n",
        "def draw_line(tick_length, tick_label=''):\n",
        "    \"\"\"Draw one line with given tick length (followed by optional label).\"\"\"\n",
        "    line = '-' * tick_length\n",
        "    if tick_label:\n",
        "        line += ' ' + tick_label\n",
        "    print(line)\n",
        "\n",
        "\n",
        "def draw_interval(center_length):\n",
        "    \"\"\"Draw tick interval based upon a central tick length.\"\"\"\n",
        "    if center_length > 0:  # stop when length drops to 0\n",
        "        draw_interval(center_length - 1)  # recursively draw top ticks\n",
        "        draw_line(center_length)  # draw center tick\n",
        "        draw_interval(center_length - 1)  # recursively draw bottom ticks\n",
        "\n",
        "\n",
        "def draw_ruler(num_inches, major_length):\n",
        "    \"\"\"Draw English ruler with given number of inches and major tick length.\"\"\"\n",
        "    draw_line(major_length, '0')  # draw inch 0 line\n",
        "    for j in range(1, 1 + num_inches):\n",
        "        draw_interval(major_length - 1)  # draw interior ticks for inch\n",
        "        draw_line(major_length, str(j))  # draw inch j line and label\n",
        "\n",
        "\n",
        "if __name__ == '__main__':\n",
        "    draw_ruler(3, 6)\n",
        "    print('=' *30)"
      ],
      "metadata": {
        "colab": {
          "base_uri": "https://localhost:8080/"
        },
        "id": "zEj_0HkzgUqy",
        "outputId": "7b4d08b5-25fd-49e6-d25d-75cc657eac64"
      },
      "execution_count": null,
      "outputs": [
        {
          "output_type": "stream",
          "name": "stdout",
          "text": [
            "------ 0\n",
            "-\n",
            "--\n",
            "-\n",
            "---\n",
            "-\n",
            "--\n",
            "-\n",
            "----\n",
            "-\n",
            "--\n",
            "-\n",
            "---\n",
            "-\n",
            "--\n",
            "-\n",
            "-----\n",
            "-\n",
            "--\n",
            "-\n",
            "---\n",
            "-\n",
            "--\n",
            "-\n",
            "----\n",
            "-\n",
            "--\n",
            "-\n",
            "---\n",
            "-\n",
            "--\n",
            "-\n",
            "------ 1\n",
            "-\n",
            "--\n",
            "-\n",
            "---\n",
            "-\n",
            "--\n",
            "-\n",
            "----\n",
            "-\n",
            "--\n",
            "-\n",
            "---\n",
            "-\n",
            "--\n",
            "-\n",
            "-----\n",
            "-\n",
            "--\n",
            "-\n",
            "---\n",
            "-\n",
            "--\n",
            "-\n",
            "----\n",
            "-\n",
            "--\n",
            "-\n",
            "---\n",
            "-\n",
            "--\n",
            "-\n",
            "------ 2\n",
            "-\n",
            "--\n",
            "-\n",
            "---\n",
            "-\n",
            "--\n",
            "-\n",
            "----\n",
            "-\n",
            "--\n",
            "-\n",
            "---\n",
            "-\n",
            "--\n",
            "-\n",
            "-----\n",
            "-\n",
            "--\n",
            "-\n",
            "---\n",
            "-\n",
            "--\n",
            "-\n",
            "----\n",
            "-\n",
            "--\n",
            "-\n",
            "---\n",
            "-\n",
            "--\n",
            "-\n",
            "------ 3\n",
            "==============================\n"
          ]
        }
      ]
    },
    {
      "cell_type": "code",
      "source": [
        "#Lab1.3 Binary Search Algorithm\n",
        "def binary_search(data, target, low, high): # low  is index start 0\n",
        "    \"\"\"Return True if target is found in indicated portion of a Python list.\n",
        "    The search only considers the portion from data[low] to data[high] inclusive.\"\"\"\n",
        "    if low > high:\n",
        "        return False                #interval is empty; no match\n",
        "    else:\n",
        "        mid = (low + high)//2 #// is divide ไม่เอาเศษ\n",
        "        if target == data[mid]:     #found a match\n",
        "            return True\n",
        "        elif target < data[mid]:\n",
        "            #return on the portion left of the middle\n",
        "            return binary_search(data, target, low, mid - 1)\n",
        "        else:\n",
        "            #recur on the portion right of the middle\n",
        "            return binary_search(data, target, mid + 1, high)\n",
        "\n",
        "data = [1, 3, 5, 7, 11, 13, 17, 19, 23, 29, 31, 37, 41, 43, 47, 53, 59]\n",
        "print(binary_search(data, 37, 0, len(data)-1))\n",
        "print(binary_search(data, 10, 0, len(data)-1))\n",
        "print(binary_search(data, 7, 0, len(data)-1))\n",
        "print(binary_search(data, 9, 0, len(data)-1))\n",
        "print(binary_search(data, 20, 0, len(data)-1))\n",
        "print(binary_search(data, 13, 0, len(data)-1))\n"
      ],
      "metadata": {
        "colab": {
          "base_uri": "https://localhost:8080/"
        },
        "id": "hzuoORupnool",
        "outputId": "fa9a9320-f0ac-401d-fbbb-28ff7c0edc52"
      },
      "execution_count": null,
      "outputs": [
        {
          "output_type": "stream",
          "name": "stdout",
          "text": [
            "True\n",
            "False\n",
            "True\n",
            "False\n",
            "False\n",
            "True\n"
          ]
        }
      ]
    },
    {
      "cell_type": "code",
      "source": [
        "#Lab1.4 The sum of a list of numbers\n",
        "def list_sum(num_List):\n",
        "    if len(num_List) == 1:\n",
        "        return num_List[0]\n",
        "    else:\n",
        "        return num_List[0] + list_sum(num_List[1:]) # num_List[1:] -> [6,9,12,16]\n",
        "\n",
        "print(list_sum([3, 6, 9, 12, 16]))\n",
        "\n",
        "\"\"\"\n",
        "Step 1\n",
        "in else\n",
        "3+list_sum(num_List[1:])-> num_List = [6, 9, 12, 16]\n",
        "    6+list_sum(num_List[1:])->num_List = [9, 12, 16]\n",
        "        9+list_sum(num_List[1:])->num_List = [12, 16]\n",
        "            12+list_sum(num_List[1:])->num_List = [16]\n",
        "in if\n",
        "return num_List = 1 equal return 16\n",
        "\"\"\""
      ],
      "metadata": {
        "colab": {
          "base_uri": "https://localhost:8080/",
          "height": 87
        },
        "id": "GJwzDInrsLrU",
        "outputId": "98598e2c-bfc8-4645-e1c1-dd99a8078988"
      },
      "execution_count": null,
      "outputs": [
        {
          "output_type": "stream",
          "name": "stdout",
          "text": [
            "<function list_sum at 0x79ff69777400>\n",
            "46\n"
          ]
        },
        {
          "output_type": "execute_result",
          "data": {
            "text/plain": [
              "'\\nStep 1 \\nin else\\n3+list_sum(num_List[1:])-> num_List = [6, 9, 12, 16]\\n    6+list_sum(num_List[1:])->num_List = [9, 12, 16]\\n        9+list_sum(num_List[1:])->num_List = [12, 16]\\n            12+list_sum(num_List[1:])->num_List = [16]\\nin if\\nreturn num_List = 1 equal return 16\\n'"
            ],
            "application/vnd.google.colaboratory.intrinsic+json": {
              "type": "string"
            }
          },
          "metadata": {},
          "execution_count": 30
        }
      ]
    },
    {
      "cell_type": "code",
      "source": [
        "#Lab1.5 Recursion List Sum\n",
        "def recursive_list_sum(data_list):\n",
        "\ttotal = 0\n",
        "\tfor element in data_list:\n",
        "\t\tif type(element) == type([]): # check type of data  that is list\n",
        "\t\t\ttotal = total + recursive_list_sum(element)\n",
        "\t\telse:\n",
        "\t\t\ttotal = total + element\n",
        "\treturn total\n",
        "\n",
        "print( recursive_list_sum([2, 4, [6,8],[10,12]]))\n",
        "\n",
        "\"\"\"\n",
        "suit else::\n",
        "    total = 0+3 sent 2\n",
        "    total = 2+4 sent 6\n",
        "suit if:\n",
        "    total = 6+recursive_list_sum(6)=12\n",
        "    total = 12+recursive_list_sum(8)=20\n",
        "suit if:\n",
        "    total = 20+recursive_list_sum(10)=30\n",
        "    total = 30+recursive_list_sum(12)=42\n",
        "\n",
        "\"\"\""
      ],
      "metadata": {
        "colab": {
          "base_uri": "https://localhost:8080/",
          "height": 53
        },
        "id": "AHLWYD-sv0if",
        "outputId": "a8df0550-980f-4d4d-b95b-dae00903d0ed"
      },
      "execution_count": null,
      "outputs": [
        {
          "output_type": "stream",
          "name": "stdout",
          "text": [
            "42\n"
          ]
        },
        {
          "output_type": "execute_result",
          "data": {
            "text/plain": [
              "'\\nsuit else::\\n    total = 0+3 sent 2\\n    total = 2+4 sent 6\\nsuit if:\\n    total = 6+recursive_list_sum(6)=12\\n    total = 12+recursive_list_sum(8)=20\\nsuit if:\\n    total = 20+recursive_list_sum(10)=30\\n    total = 30+recursive_list_sum(12)=42\\n\\n'"
            ],
            "application/vnd.google.colaboratory.intrinsic+json": {
              "type": "string"
            }
          },
          "metadata": {},
          "execution_count": 47
        }
      ]
    },
    {
      "cell_type": "code",
      "source": [
        "#Lab1.6 Fibonacci Sequence using Recursion.\n",
        "def fibonacci(n):\n",
        "  if n == 0:\n",
        "    return 0\n",
        "  elif n == 1:\n",
        "    return 1\n",
        "  else:\n",
        "    return (fibonacci(n - 1) + fibonacci(n - 2))\n",
        "\n",
        "#first element + second element untill n\n",
        "print(fibonacci(9))"
      ],
      "metadata": {
        "colab": {
          "base_uri": "https://localhost:8080/"
        },
        "id": "rS3FAMYAylWM",
        "outputId": "d9654207-f145-4ba8-928b-25f721cf6372"
      },
      "execution_count": null,
      "outputs": [
        {
          "output_type": "stream",
          "name": "stdout",
          "text": [
            "34\n"
          ]
        }
      ]
    },
    {
      "cell_type": "code",
      "source": [
        "#Lab1.7 Sum of a Non-Negative Integer\n",
        "def sumDigits(n):\n",
        "  if n == 0:\n",
        "    return 0\n",
        "  else:\n",
        "    return n % 10 + sumDigits(int(n / 10)) #mod เอาเศษ 678mod10 = 8 + 67mod10 = 7 + 6mod10=6 =8+7+5=21\n",
        "print(sumDigits(678))\n",
        "print(sumDigits(79))"
      ],
      "metadata": {
        "colab": {
          "base_uri": "https://localhost:8080/"
        },
        "id": "etQBOIJyGTM9",
        "outputId": "17ae5362-2a87-4b3a-85d2-dc2d3f95ff3c"
      },
      "execution_count": null,
      "outputs": [
        {
          "output_type": "stream",
          "name": "stdout",
          "text": [
            "21\n",
            "16\n"
          ]
        }
      ]
    },
    {
      "cell_type": "code",
      "source": [
        "#Lab1.8 Sum of the Positive Integers of n+(n-2)+(n-4)... (until n-x =< 0).\n",
        "def sum_series(n):\n",
        "  if n < 1:\n",
        "    return 0\n",
        "  else:\n",
        "    return n + sum_series(n - 2)\n",
        "\n",
        "print(sum_series(9))\n",
        "print(sum_series(16))"
      ],
      "metadata": {
        "colab": {
          "base_uri": "https://localhost:8080/"
        },
        "id": "Kh3luWLKyq8x",
        "outputId": "976ecc1f-9a0d-4fe2-b15d-611258b2d195"
      },
      "execution_count": null,
      "outputs": [
        {
          "output_type": "stream",
          "name": "stdout",
          "text": [
            "25\n",
            "72\n"
          ]
        }
      ]
    },
    {
      "cell_type": "code",
      "source": [
        "#Lab1.9 Harmonic Sum of n-1\n",
        "def harmonic_sum(n):\n",
        "  if n < 2:\n",
        "    return 1\n",
        "  else:\n",
        "    return 1 / n + (harmonic_sum(n - 1))\n",
        "\n",
        "print(harmonic_sum(9))\n",
        "print(harmonic_sum(6))"
      ],
      "metadata": {
        "colab": {
          "base_uri": "https://localhost:8080/"
        },
        "id": "PmmBmjcYGXOz",
        "outputId": "b51c8a68-b8d4-4f1e-aa18-8fb34931bdb3"
      },
      "execution_count": null,
      "outputs": [
        {
          "output_type": "stream",
          "name": "stdout",
          "text": [
            "2.8289682539682537\n",
            "2.4499999999999997\n"
          ]
        }
      ]
    },
    {
      "cell_type": "code",
      "source": [
        "#Lab1.10 Geometric Sum of n-1\n",
        "def geometric_sum(n):\n",
        "  if n < 0:\n",
        "    return 0\n",
        "  else:\n",
        "    return 1 / (pow(2, n)) + geometric_sum(n - 1)\n",
        "\n",
        "print(geometric_sum(9))\n",
        "print(geometric_sum(6))"
      ],
      "metadata": {
        "colab": {
          "base_uri": "https://localhost:8080/"
        },
        "id": "w_BvmPmPJViA",
        "outputId": "e0727ec8-79a6-4811-abb0-f3755d76d22e"
      },
      "execution_count": null,
      "outputs": [
        {
          "output_type": "stream",
          "name": "stdout",
          "text": [
            "1.998046875\n",
            "1.984375\n"
          ]
        }
      ]
    },
    {
      "cell_type": "code",
      "source": [
        "#Lab1.11 Exponent value of 'a' to the power 'b'\n",
        "def power(a,b):\n",
        "\tif b==0:\n",
        "\t\treturn 1\n",
        "\telif a==0:\n",
        "\t\treturn 0\n",
        "\telif b==1:\n",
        "\t\treturn a\n",
        "\telse:\n",
        "\t\treturn a*power(a,b-1)\n",
        "\n",
        "print(power(9,3))"
      ],
      "metadata": {
        "colab": {
          "base_uri": "https://localhost:8080/"
        },
        "id": "F21Ch1IMJWdd",
        "outputId": "13726a90-aab8-4f4a-f249-8c3375c871f3"
      },
      "execution_count": null,
      "outputs": [
        {
          "output_type": "stream",
          "name": "stdout",
          "text": [
            "729\n"
          ]
        }
      ]
    },
    {
      "cell_type": "code",
      "source": [
        "#Lab1.12 Find  the Greatest Common Divisor (GCD) of two integers\n",
        "def Recurgcd(a, b):\n",
        "\tlow = min(a, b)\n",
        "\thigh = max(a, b)\n",
        "\n",
        "\tif low == 0:\n",
        "\t\treturn high\n",
        "\telif low == 1:\n",
        "\t\treturn 1\n",
        "\telse:\n",
        "\t\treturn Recurgcd(low, high%low)\n",
        "\n",
        "def Recurlcm(a, b):\n",
        "    # LCM = (a * b) / GCD(a, b)\n",
        "    return (a * b) // Recurgcd(a, b)\n",
        "\n",
        "print(Recurgcd(6,39))\n",
        "print(Recurlcm(6,39))\n",
        "#R1 low = min(6,39)=6 -> high = max(6,39)=39 = Recurgcd 3,39%3 = 3\n",
        "#R2 low = min(6,3)=3 -> high = max(6,3)=6 = Recurgcd 3,6%3 = 0\n",
        "#R2 low = min(3,0)=0 -> high = max(3,0)=3 = low == 0 return high = 3\n",
        "#Ans 3"
      ],
      "metadata": {
        "colab": {
          "base_uri": "https://localhost:8080/"
        },
        "id": "Om7iNMq4JX3O",
        "outputId": "14fe58b0-f2b6-493a-cd26-2e3a8b4554fd"
      },
      "execution_count": null,
      "outputs": [
        {
          "output_type": "stream",
          "name": "stdout",
          "text": [
            "3\n",
            "78\n"
          ]
        }
      ]
    },
    {
      "cell_type": "code",
      "source": [
        "def gcd(a, b):\n",
        "    # Euclidean algorithm to find the greatest common divisor (GCD)\n",
        "    if b == 0:\n",
        "        return a\n",
        "    else:\n",
        "        return gcd(b, a % b)\n",
        "\n",
        "def lcm(a, b):\n",
        "    # LCM = (a * b) / GCD(a, b)\n",
        "    return (a * b) // gcd(a, b)\n",
        "\n",
        "# Example usage:\n",
        "num1 = 12\n",
        "num2 = 18\n",
        "\n",
        "result_lcm = lcm(num1, num2)\n",
        "print(f\"LCM of {num1} and {num2} is: {result_lcm}\")"
      ],
      "metadata": {
        "id": "Ja8K4W59OIat"
      },
      "execution_count": null,
      "outputs": []
    }
  ]
}