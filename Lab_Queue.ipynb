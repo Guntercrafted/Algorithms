{
  "nbformat": 4,
  "nbformat_minor": 0,
  "metadata": {
    "colab": {
      "provenance": [],
      "authorship_tag": "ABX9TyOTmFyhLwBKOmx1BV21C4yc",
      "include_colab_link": true
    },
    "kernelspec": {
      "name": "python3",
      "display_name": "Python 3"
    },
    "language_info": {
      "name": "python"
    }
  },
  "cells": [
    {
      "cell_type": "markdown",
      "metadata": {
        "id": "view-in-github",
        "colab_type": "text"
      },
      "source": [
        "<a href=\"https://colab.research.google.com/github/Guntercrafted/Algorithms/blob/main/Lab_Queue.ipynb\" target=\"_parent\"><img src=\"https://colab.research.google.com/assets/colab-badge.svg\" alt=\"Open In Colab\"/></a>"
      ]
    },
    {
      "cell_type": "code",
      "execution_count": null,
      "metadata": {
        "colab": {
          "base_uri": "https://localhost:8080/"
        },
        "id": "qmZiP_HQRk7_",
        "outputId": "eabbe683-58f3-4ca5-b237-08eccb30e3a2"
      },
      "outputs": [
        {
          "output_type": "stream",
          "name": "stdout",
          "text": [
            "2\n",
            "5\n",
            "False\n",
            "3\n",
            "True\n",
            "7\n",
            "3\n",
            "7\n"
          ]
        }
      ],
      "source": [
        "#Queue = FIFO = First In First Out\n",
        "#Lab1 Queues\n",
        "class ArrayQueue:\n",
        "    \"\"\"FIFO queue implementation using a Python list as underlying storage.\"\"\"\n",
        "    DEFAULT_CAPACITY = 10       #moderate capacity for all new queues\n",
        "\n",
        "    def __init__(self):\n",
        "        \"\"\"Create an empty queue.\"\"\"\n",
        "        self._data = [None]*ArrayQueue.DEFAULT_CAPACITY\n",
        "        self._size = 0\n",
        "        self._front = 0\n",
        "\n",
        "    def __len__(self):\n",
        "        \"\"\"Return the number of elements in the queue.\"\"\"\n",
        "        return self._size\n",
        "\n",
        "    def is_empty(self):\n",
        "        \"\"\"Return True if the queue is empty.\"\"\"\n",
        "        return self._size == 0\n",
        "\n",
        "    def first(self):\n",
        "        \"\"\"Return (but do not remove) the element at the front of the queue.\n",
        "\n",
        "        Raise Empty exception if the queue is empty.\n",
        "        \"\"\"\n",
        "        if self.is_empty():\n",
        "            raise Empty('Queue is empty')\n",
        "        return self._data[self._front]\n",
        "\n",
        "    def dequeue(self):\n",
        "        \"\"\"Remove and return the first element of the queue (i.e.,FIFO).\n",
        "\n",
        "        Raise Empty exception if the queue is empty.\n",
        "        \"\"\"\n",
        "        if self.is_empty():\n",
        "            raise Empty('Queue is empty')\n",
        "        answer = self._data[self._front]\n",
        "        self._data[self._front] = None      #help garbage collection\n",
        "        self._front = (self._front + 1)%len(self._data)\n",
        "        self._size -= 1\n",
        "        return answer\n",
        "\n",
        "    def enqueue(self, e):\n",
        "        \"\"\"Add an element to the back of queue.\"\"\"\n",
        "        if self._size == len(self._data):\n",
        "            self._resize(2*len(self.data))     #double the array size\n",
        "        avail = (self._front + self._size) % len(self._data)\n",
        "        self._data[avail] = e\n",
        "        self._size += 1\n",
        "\n",
        "    def _resize(self, cap):                 #we assume cap >= len(self)\n",
        "        \"\"\"Resize to a new list of capacity >= len(self).\"\"\"\n",
        "        old = self._data                    #keep track of existing list\n",
        "        self._data = [None]*cap             #allocate list with new capacity\n",
        "        walk = self._front\n",
        "        for k in range(self._size):         #only consider existing elements\n",
        "            self._data[k] = old[walk]       #intentionally shift indices\n",
        "            walk = (1+walk) % len(old)      #use old size as modulus\n",
        "        self._front = 0                     #front has been realigned\n",
        "\n",
        "Q = ArrayQueue()\n",
        "Q.enqueue(5) # [5]\n",
        "Q.enqueue(3) # [5, 3]\n",
        "print(len(Q)) # [5, 3]\n",
        "print(Q.dequeue()) # [3]\n",
        "print(Q.is_empty()) # [3]\n",
        "print(Q.dequeue()) # []\n",
        "print(Q.is_empty()) # []\n",
        "#print(Q.dequeue()) # Error\n",
        "Q.enqueue(7) # [7]\n",
        "Q.enqueue(9) # [7, 9]\n",
        "print(Q.first()) # [7, 9]\n",
        "Q.enqueue(4) # [7, 9, 4]\n",
        "print(len(Q)) # [7, 9, 4]\n",
        "print(Q.dequeue()) # [9, 4]\n"
      ]
    },
    {
      "cell_type": "code",
      "source": [
        "#PriorityQueue\n",
        "class PriorityQueue(object):\n",
        "    def __init__(self):\n",
        "        self.queue = []\n",
        "\n",
        "    def __str__(self):\n",
        "        return ' '.join([str(i) for i in self.queue])\n",
        "\n",
        "    # for checking if queue is empty\n",
        "    def isEmpty(self):\n",
        "        return len(self.queue) == 0\n",
        "\n",
        "    # for inserting an element in the queue\n",
        "    def insert(self, data):\n",
        "        self.queue.append(data)\n",
        "\n",
        "    # for popping an element based on Priority\n",
        "    def delete(self):\n",
        "        try:\n",
        "            max = 0\n",
        "            for i in range(len(self.queue)):\n",
        "                if self.queue[i] > self.queue[max]:\n",
        "                    max = i\n",
        "            item = self.queue[max]\n",
        "            del self.queue[max]\n",
        "            return item\n",
        "        except IndexError:\n",
        "            print()\n",
        "            exit()\n",
        "\n",
        "if __name__ == '__main__':\n",
        "    myQueue = PriorityQueue()\n",
        "    myQueue.insert(12)\n",
        "    myQueue.insert(1)\n",
        "    myQueue.insert(16)\n",
        "    myQueue.insert(9)\n",
        "    print(myQueue.isEmpty())\n",
        "    print(myQueue)                # 12 1 16 9\n",
        "    while not myQueue.isEmpty():\n",
        "        print(myQueue.delete(), end = ' ')    # 16 12 9 1\n",
        "\n",
        "    print('\\n',myQueue.isEmpty())"
      ],
      "metadata": {
        "colab": {
          "base_uri": "https://localhost:8080/"
        },
        "id": "ifYavHmNWGss",
        "outputId": "f5da4176-3a68-463f-f358-803ff0fbaf32"
      },
      "execution_count": null,
      "outputs": [
        {
          "output_type": "stream",
          "name": "stdout",
          "text": [
            "False\n",
            "12 1 16 9\n",
            "16 12 9 1 \n",
            " True\n"
          ]
        }
      ]
    },
    {
      "cell_type": "code",
      "source": [
        "#CircularQueue\n",
        "class CircularQueue(object):\n",
        "    def __init__(self, limit = 10):\n",
        "        self.front = None\n",
        "        self.rear = None\n",
        "        self.limit = limit\n",
        "        self.queue = []\n",
        "\n",
        "    # for printing the queue\n",
        "    def __str__(self):\n",
        "        return ' '.join([str(i) for i in self.queue])\n",
        "\n",
        "    # for checking if queue is empty\n",
        "    def isEmpty(self):\n",
        "        return self.queue == []\n",
        "\n",
        "    # for checking if the queue is full\n",
        "    def isFull(self):\n",
        "        return len(self.queue) == self.limit\n",
        "\n",
        "    # for adding an element at the rear end\n",
        "    def enqueue(self, data):\n",
        "        if self.isFull():\n",
        "            print('Queue is Full!')\n",
        "        elif self.isEmpty():\n",
        "            self.front = self.rear = 0\n",
        "            self.queue.append(data)\n",
        "        else:\n",
        "            self.rear += 1\n",
        "            self.queue.append(data)\n",
        "\n",
        "    # for deleting the deleting an element from front end\n",
        "    def dequeue(self):\n",
        "        if self.isEmpty():\n",
        "            print('Queue is Empty!')\n",
        "        else:\n",
        "            self.front += 1\n",
        "            return self.queue.pop(0)\n",
        "\n",
        "if __name__ == '__main__':\n",
        "    myCQ = CircularQueue(5)\n",
        "    myCQ.enqueue(29)\n",
        "    myCQ.enqueue(23)\n",
        "    myCQ.enqueue(17)\n",
        "    myCQ.enqueue(18)\n",
        "    print('Queue:',myCQ)\n",
        "    myCQ.dequeue()\n",
        "    myCQ.dequeue()\n",
        "    myCQ.dequeue()\n",
        "    myCQ.dequeue()\n",
        "    myCQ.dequeue()\n",
        "    print('Queue:',myCQ)\n",
        "    myCQ.enqueue(9)\n",
        "    myCQ.enqueue(20)\n",
        "    myCQ.enqueue(6)\n",
        "    myCQ.enqueue(8)\n",
        "    myCQ.enqueue(7)\n",
        "    print('Queue:',myCQ)\n",
        "    myCQ.enqueue(6)"
      ],
      "metadata": {
        "colab": {
          "base_uri": "https://localhost:8080/"
        },
        "id": "wI6Sj9WnjsF-",
        "outputId": "f6326c08-9c30-4957-e36e-b38e66d82032"
      },
      "execution_count": null,
      "outputs": [
        {
          "output_type": "stream",
          "name": "stdout",
          "text": [
            "Queue: 29 23 17 18\n",
            "Queue is Empty!\n",
            "Queue: \n",
            "Queue: 9 20 6 8 7\n",
            "Queue is Full!\n"
          ]
        }
      ]
    },
    {
      "cell_type": "code",
      "source": [
        "#Deque\n",
        "class Deque(object):\n",
        "    def __init__(self, limit = 10):\n",
        "        self.queue = []\n",
        "        self.limit = limit\n",
        "\n",
        "    def __str__(self):\n",
        "        return ' '.join([str(i) for i in self.queue])\n",
        "\n",
        "    # check if queue is empty\n",
        "    def isEmpty(self):\n",
        "        return len(self.queue) <= 0\n",
        "\n",
        "    # check if queue is full\n",
        "    def isFull(self):\n",
        "        return len(self.queue) >= self.limit\n",
        "\n",
        "    # for inserting at rear\n",
        "    def insertRear(self, data):\n",
        "        if self.isFull():\n",
        "            return\n",
        "        else:\n",
        "            self.queue.insert(0, data)\n",
        "\n",
        "    # for inserting at front end\n",
        "    def insertFront(self, data):\n",
        "        if self.isFull():\n",
        "            return\n",
        "        else:\n",
        "            self.queue.append(data)\n",
        "\n",
        "    # deleting from rear end\n",
        "    def deleteRear(self):\n",
        "        if self.isEmpty():\n",
        "            return\n",
        "        else:\n",
        "            return self.queue.pop(0)\n",
        "\n",
        "    # deleting from front end\n",
        "    def deleteFront(self):\n",
        "        if self.isFull():\n",
        "            return\n",
        "        else:\n",
        "            return self.queue.pop()\n",
        "\n",
        "if __name__ == '__main__':\n",
        "    myDeque = Deque()\n",
        "    myDeque.insertFront(6)    # 6\n",
        "    myDeque.insertRear(9)     # 9 6\n",
        "    myDeque.insertFront(3)    # 9 6 3\n",
        "    myDeque.insertRear(12)    #12 9 6 3\n",
        "    print(myDeque)\n",
        "    myDeque.deleteRear()      # 9 6 3\n",
        "    print(myDeque)\n",
        "    myDeque.deleteFront()     # 9 6"
      ],
      "metadata": {
        "colab": {
          "base_uri": "https://localhost:8080/"
        },
        "id": "sCzbPHnYnznH",
        "outputId": "c864b92f-45c9-4975-d76d-891e4f2ea9e6"
      },
      "execution_count": null,
      "outputs": [
        {
          "output_type": "stream",
          "name": "stdout",
          "text": [
            "12 9 6 3\n",
            "9 6 3\n"
          ]
        }
      ]
    }
  ]
}